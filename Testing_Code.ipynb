{
 "cells": [
  {
   "cell_type": "code",
   "execution_count": 2,
   "metadata": {},
   "outputs": [],
   "source": [
    "import urllib.request, urllib.parse, urllib.error\n",
    "from bs4 import BeautifulSoup\n",
    "import ssl\n",
    "import re"
   ]
  },
  {
   "cell_type": "code",
   "execution_count": 3,
   "metadata": {},
   "outputs": [
    {
     "name": "stdout",
     "output_type": "stream",
     "text": [
      "['Fikret']\n"
     ]
    }
   ],
   "source": [
    "url = 'http://py4e-data.dr-chuck.net/known_by_Fikret.html'\n",
    "name = re.findall('by_([a-zA-Z]+)', url)\n",
    "print(name)"
   ]
  },
  {
   "cell_type": "code",
   "execution_count": 17,
   "metadata": {},
   "outputs": [
    {
     "name": "stdout",
     "output_type": "stream",
     "text": [
      "Enter url:http://py4e-data.dr-chuck.net/known_by_Fikret.html\n",
      "Enter count: 4\n",
      "Enter position: 3\n"
     ]
    }
   ],
   "source": [
    "url = input('Enter url:')\n",
    "enter_count = input('Enter count: ')\n",
    "enter_position = input('Enter position: ')"
   ]
  },
  {
   "cell_type": "code",
   "execution_count": 18,
   "metadata": {},
   "outputs": [
    {
     "name": "stdout",
     "output_type": "stream",
     "text": [
      "['Fikret']\n",
      "http://py4e-data.dr-chuck.net/known_by_Montgomery.html\n",
      "http://py4e-data.dr-chuck.net/known_by_Mhairade.html\n",
      "http://py4e-data.dr-chuck.net/known_by_Butchi.html\n",
      "http://py4e-data.dr-chuck.net/known_by_Anayah.html\n",
      "['Anayah']\n"
     ]
    }
   ],
   "source": [
    "# Ignore SSL certificate errors\n",
    "ctx = ssl.create_default_context()\n",
    "ctx.check_hostname = False\n",
    "ctx.verify_mode = ssl.CERT_NONE\n",
    "\n",
    "enter_count = int(enter_count)\n",
    "enter_position = int(enter_position)\n",
    "\n",
    "counter = 0\n",
    "while counter <= enter_count:\n",
    "    if counter == 0:\n",
    "        name = re.findall('by_([a-zA-Z]+)', url)\n",
    "        counter = counter + 1\n",
    "        print(name)\n",
    "    else:\n",
    "        url_list = list()\n",
    "        html = urllib.request.urlopen(url, context=ctx).read()\n",
    "        soup = BeautifulSoup(html, 'html.parser')\n",
    "        tags = soup('a')\n",
    "        for tag in tags:\n",
    "            url = tag.get('href', None)\n",
    "            url_list.append(url)\n",
    "        url = url_list[enter_position-1]\n",
    "        print(url)\n",
    "        counter = counter + 1\n",
    "            \n",
    "final_name = re.findall('by_([a-zA-Z]+)', url)\n",
    "print(final_name)"
   ]
  },
  {
   "cell_type": "code",
   "execution_count": null,
   "metadata": {},
   "outputs": [],
   "source": []
  }
 ],
 "metadata": {
  "kernelspec": {
   "display_name": "Python 3",
   "language": "python",
   "name": "python3"
  },
  "language_info": {
   "codemirror_mode": {
    "name": "ipython",
    "version": 3
   },
   "file_extension": ".py",
   "mimetype": "text/x-python",
   "name": "python",
   "nbconvert_exporter": "python",
   "pygments_lexer": "ipython3",
   "version": "3.8.5"
  }
 },
 "nbformat": 4,
 "nbformat_minor": 4
}
